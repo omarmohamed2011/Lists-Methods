{
  "nbformat": 4,
  "nbformat_minor": 0,
  "metadata": {
    "colab": {
      "name": "Python_Lists&Methods.ipynb",
      "provenance": [],
      "collapsed_sections": []
    },
    "kernelspec": {
      "name": "python3",
      "display_name": "Python 3"
    },
    "language_info": {
      "name": "python"
    }
  },
  "cells": [
    {
      "cell_type": "code",
      "metadata": {
        "id": "ke-JZCMCq-aD"
      },
      "source": [
        "## Create a list called : A\n",
        "A = [0,2,5,'Data']"
      ],
      "execution_count": 20,
      "outputs": []
    },
    {
      "cell_type": "code",
      "metadata": {
        "colab": {
          "base_uri": "https://localhost:8080/"
        },
        "id": "Zq511HPS0oj0",
        "outputId": "efd51b4c-a4e8-4471-e364-1a2551279049"
      },
      "source": [
        "## Add an element to the list\n",
        "A.append('Science')\n",
        "\n",
        "print(A)"
      ],
      "execution_count": 21,
      "outputs": [
        {
          "output_type": "stream",
          "name": "stdout",
          "text": [
            "[0, 2, 5, 'Data', 'Science']\n"
          ]
        }
      ]
    },
    {
      "cell_type": "code",
      "metadata": {
        "colab": {
          "base_uri": "https://localhost:8080/"
        },
        "id": "2K9wFEYC0wYp",
        "outputId": "a57f6139-5658-420a-8f7b-522cb5244a8e"
      },
      "source": [
        "## Copy a list\n",
        "B = A.copy()\n",
        "\n",
        "print(B)"
      ],
      "execution_count": 22,
      "outputs": [
        {
          "output_type": "stream",
          "name": "stdout",
          "text": [
            "[0, 2, 5, 'Data', 'Science']\n"
          ]
        }
      ]
    },
    {
      "cell_type": "code",
      "metadata": {
        "colab": {
          "base_uri": "https://localhost:8080/"
        },
        "id": "JBiDfvLR00jP",
        "outputId": "4dac7f73-e6ce-469d-944c-89588f61ddfb"
      },
      "source": [
        "## Count of an element in the list\n",
        "count_of2 = A.count(2)\n",
        "\n",
        "print(count_of2)"
      ],
      "execution_count": 23,
      "outputs": [
        {
          "output_type": "stream",
          "name": "stdout",
          "text": [
            "1\n"
          ]
        }
      ]
    },
    {
      "cell_type": "code",
      "metadata": {
        "colab": {
          "base_uri": "https://localhost:8080/"
        },
        "id": "oxQqYdnR3v9F",
        "outputId": "25ebd68f-6a7a-42c3-9bf5-55052e4cc733"
      },
      "source": [
        "## Add another 2 in list B and find count(2)\n",
        "B.append(2)\n",
        "count_of2 = B.count(2)\n",
        "\n",
        "print(count_of2)"
      ],
      "execution_count": 24,
      "outputs": [
        {
          "output_type": "stream",
          "name": "stdout",
          "text": [
            "2\n"
          ]
        }
      ]
    },
    {
      "cell_type": "code",
      "metadata": {
        "colab": {
          "base_uri": "https://localhost:8080/"
        },
        "id": "5aPrWfBg1ioI",
        "outputId": "df978d49-e640-419d-a175-a45d3025ba29"
      },
      "source": [
        "## Extend A with a string of 123, adding three strings to A : 1,2,3\n",
        "A.extend('123')\n",
        "\n",
        "print(A)"
      ],
      "execution_count": 25,
      "outputs": [
        {
          "output_type": "stream",
          "name": "stdout",
          "text": [
            "[0, 2, 5, 'Data', 'Science', '1', '2', '3']\n"
          ]
        }
      ]
    },
    {
      "cell_type": "code",
      "metadata": {
        "colab": {
          "base_uri": "https://localhost:8080/"
        },
        "id": "apGflomI3jCL",
        "outputId": "ca88a265-a19e-420f-cb7a-f117fa518500"
      },
      "source": [
        "## Find index of 5 in A\n",
        "A.index(5)"
      ],
      "execution_count": 26,
      "outputs": [
        {
          "output_type": "execute_result",
          "data": {
            "text/plain": [
              "2"
            ]
          },
          "metadata": {},
          "execution_count": 26
        }
      ]
    },
    {
      "cell_type": "code",
      "metadata": {
        "colab": {
          "base_uri": "https://localhost:8080/"
        },
        "id": "aSiovvtZ3gpL",
        "outputId": "e782c523-2351-4d3d-9ec3-e548b036253f"
      },
      "source": [
        "## POP command to delete last element of list A\n",
        "A.pop()\n",
        "print(A)"
      ],
      "execution_count": 27,
      "outputs": [
        {
          "output_type": "stream",
          "name": "stdout",
          "text": [
            "[0, 2, 5, 'Data', 'Science', '1', '2']\n"
          ]
        }
      ]
    },
    {
      "cell_type": "code",
      "metadata": {
        "colab": {
          "base_uri": "https://localhost:8080/"
        },
        "id": "IkygoXku4uk7",
        "outputId": "1f45ce57-eb9a-47eb-eef7-0404efe3d485"
      },
      "source": [
        "## Add 777 integer to the position 1 in A, \n",
        "## which results a shift to all other elements\n",
        "A.insert(1,777)\n",
        "\n",
        "print(A)"
      ],
      "execution_count": 28,
      "outputs": [
        {
          "output_type": "stream",
          "name": "stdout",
          "text": [
            "[0, 777, 2, 5, 'Data', 'Science', '1', '2']\n"
          ]
        }
      ]
    },
    {
      "cell_type": "code",
      "metadata": {
        "colab": {
          "base_uri": "https://localhost:8080/"
        },
        "id": "G2y56e-L6zPk",
        "outputId": "4862b80f-2c10-4a13-db1a-06daa4007065"
      },
      "source": [
        "## Remove the element equal to 0,\n",
        "## which results a shift to all other elements\n",
        "A.remove(0)\n",
        "\n",
        "print(A)"
      ],
      "execution_count": 29,
      "outputs": [
        {
          "output_type": "stream",
          "name": "stdout",
          "text": [
            "[777, 2, 5, 'Data', 'Science', '1', '2']\n"
          ]
        }
      ]
    },
    {
      "cell_type": "code",
      "metadata": {
        "colab": {
          "base_uri": "https://localhost:8080/"
        },
        "id": "KUQfmVbG7N_o",
        "outputId": "148c2ade-461b-4125-9365-54c3e3466024"
      },
      "source": [
        "## Reverse order of list elements\n",
        "A.reverse()\n",
        "\n",
        "print(A)"
      ],
      "execution_count": 30,
      "outputs": [
        {
          "output_type": "stream",
          "name": "stdout",
          "text": [
            "['2', '1', 'Science', 'Data', 5, 2, 777]\n"
          ]
        }
      ]
    },
    {
      "cell_type": "code",
      "metadata": {
        "colab": {
          "base_uri": "https://localhost:8080/"
        },
        "id": "Hf9V2ovR7UGT",
        "outputId": "fe59ecf0-4b81-4e7f-eaf1-6dd5cb1a3adf"
      },
      "source": [
        "## Sort elements \n",
        "C = [1,2,10,5,3,7,5]\n",
        "C.sort()\n",
        "\n",
        "print(C)"
      ],
      "execution_count": 31,
      "outputs": [
        {
          "output_type": "stream",
          "name": "stdout",
          "text": [
            "[1, 2, 3, 5, 5, 7, 10]\n"
          ]
        }
      ]
    },
    {
      "cell_type": "code",
      "metadata": {
        "colab": {
          "base_uri": "https://localhost:8080/"
        },
        "id": "7tRhiqDB7lad",
        "outputId": "da0c16fb-a00e-401d-d2e1-c243841788c6"
      },
      "source": [
        "## Clear the list C\n",
        "C.clear()\n",
        "print(C)"
      ],
      "execution_count": 33,
      "outputs": [
        {
          "output_type": "stream",
          "name": "stdout",
          "text": [
            "[]\n"
          ]
        }
      ]
    },
    {
      "cell_type": "code",
      "metadata": {
        "id": "ahNvM-W0Fehp"
      },
      "source": [
        ""
      ],
      "execution_count": null,
      "outputs": []
    }
  ]
}